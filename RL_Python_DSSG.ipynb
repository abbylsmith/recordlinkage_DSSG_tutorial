{
 "cells": [
  {
   "cell_type": "markdown",
   "id": "44e0d974",
   "metadata": {
    "slideshow": {
     "slide_type": "slide"
    }
   },
   "source": [
    "# Record Linkage / Entity Resolution / Deduplication (using Python!)\n",
    "## A Pratical Guide by Abby for DSSG 2022"
   ]
  },
  {
   "cell_type": "markdown",
   "id": "b230244d",
   "metadata": {
    "slideshow": {
     "slide_type": "slide"
    }
   },
   "source": [
    "## Real World Data is A MESS\n",
    "\n",
    "* Inputted by humans\n",
    "* Often not reviewed\n",
    "* Not properly normalized by the input system"
   ]
  },
  {
   "cell_type": "markdown",
   "id": "75bf9294",
   "metadata": {
    "slideshow": {
     "slide_type": "slide"
    }
   },
   "source": [
    "## Real World Data is A MESS\n",
    "\n",
    "* Lack of a **unique identifier** like a social security number to join datasets! "
   ]
  },
  {
   "cell_type": "markdown",
   "id": "807d23c4",
   "metadata": {
    "slideshow": {
     "slide_type": "slide"
    }
   },
   "source": [
    "## Real World Data is A MESS\n",
    "\n",
    "The solution is **record linkage**-- joining records in a fuzzy way by calculating similarity of different attributes of entities!\n",
    "\n",
    "We use names, addresses, and more!"
   ]
  },
  {
   "cell_type": "code",
   "execution_count": 1,
   "id": "272d58c3",
   "metadata": {
    "slideshow": {
     "slide_type": "skip"
    }
   },
   "outputs": [],
   "source": [
    "import warnings; warnings.simplefilter('ignore')\n",
    "import logging; logging.disable(level=logging.INFO)\n"
   ]
  },
  {
   "cell_type": "code",
   "execution_count": 2,
   "id": "4427f8b9",
   "metadata": {
    "slideshow": {
     "slide_type": "skip"
    }
   },
   "outputs": [],
   "source": [
    "import pandas as pd\n",
    "\n",
    "data = [\n",
    "    (\"Chin's\",\"3200 Las Vegas Boulevard\",\"New York\"),\n",
    "    (\"Chin Bistro\",\"3200 Las Vegas Blvd.\",\"New York\"),\n",
    "    (\"Bistro\",\"3400 Las Vegas Blvd.\",\"New York City\"),\n",
    "    (\"Bistro\",\"3400 Las Vegas B.\",\"NYC\"),\n",
    "]\n",
    "\n",
    "df = pd.DataFrame(data, columns=['restaurant', 'address', 'city'])"
   ]
  },
  {
   "cell_type": "code",
   "execution_count": 3,
   "id": "da7dbd42",
   "metadata": {
    "slideshow": {
     "slide_type": "slide"
    }
   },
   "outputs": [
    {
     "data": {
      "text/html": [
       "<div>\n",
       "<style scoped>\n",
       "    .dataframe tbody tr th:only-of-type {\n",
       "        vertical-align: middle;\n",
       "    }\n",
       "\n",
       "    .dataframe tbody tr th {\n",
       "        vertical-align: top;\n",
       "    }\n",
       "\n",
       "    .dataframe thead th {\n",
       "        text-align: right;\n",
       "    }\n",
       "</style>\n",
       "<table border=\"1\" class=\"dataframe\">\n",
       "  <thead>\n",
       "    <tr style=\"text-align: right;\">\n",
       "      <th></th>\n",
       "      <th>restaurant</th>\n",
       "      <th>address</th>\n",
       "      <th>city</th>\n",
       "    </tr>\n",
       "  </thead>\n",
       "  <tbody>\n",
       "    <tr>\n",
       "      <th>0</th>\n",
       "      <td>Chin's</td>\n",
       "      <td>3200 Las Vegas Boulevard</td>\n",
       "      <td>New York</td>\n",
       "    </tr>\n",
       "    <tr>\n",
       "      <th>1</th>\n",
       "      <td>Chin Bistro</td>\n",
       "      <td>3200 Las Vegas Blvd.</td>\n",
       "      <td>New York</td>\n",
       "    </tr>\n",
       "    <tr>\n",
       "      <th>2</th>\n",
       "      <td>Bistro</td>\n",
       "      <td>3400 Las Vegas Blvd.</td>\n",
       "      <td>New York City</td>\n",
       "    </tr>\n",
       "    <tr>\n",
       "      <th>3</th>\n",
       "      <td>Bistro</td>\n",
       "      <td>3400 Las Vegas B.</td>\n",
       "      <td>NYC</td>\n",
       "    </tr>\n",
       "  </tbody>\n",
       "</table>\n",
       "</div>"
      ],
      "text/plain": [
       "    restaurant                   address           city\n",
       "0       Chin's  3200 Las Vegas Boulevard       New York\n",
       "1  Chin Bistro      3200 Las Vegas Blvd.       New York\n",
       "2       Bistro      3400 Las Vegas Blvd.  New York City\n",
       "3       Bistro         3400 Las Vegas B.            NYC"
      ]
     },
     "execution_count": 3,
     "metadata": {},
     "output_type": "execute_result"
    }
   ],
   "source": [
    "df"
   ]
  },
  {
   "cell_type": "markdown",
   "id": "485cb109",
   "metadata": {
    "slideshow": {
     "slide_type": "fragment"
    }
   },
   "source": [
    "A good deduplication on the data above would find that:\n",
    "\n",
    "* `(0, 1)`are duplicates\n",
    "* `(2, 3)` are duplicates\n",
    "* but `(0, 1)` and `(2, 3)` are different, despite being similar"
   ]
  },
  {
   "cell_type": "markdown",
   "id": "2ce8deaa",
   "metadata": {
    "slideshow": {
     "slide_type": "slide"
    }
   },
   "source": [
    "The process for deduplicating a dataset is as follows:\n",
    "\n",
    "![er_total](old_er.png)\n",
    "\n",
    "We add an additional step of preprocessing because I feel like that's particularly useful for people."
   ]
  },
  {
   "cell_type": "markdown",
   "id": "6a23292b",
   "metadata": {
    "slideshow": {
     "slide_type": "slide"
    }
   },
   "source": [
    "## Step 1: Preprocessing\n",
    "\n",
    "Without unique identifiers, we need to match records by fuzzy data like:\n",
    "\n",
    "* Names\n",
    "* Addresses\n",
    "* Phone Numbers\n",
    "* Dates\n",
    "\n",
    "So it's important to clean them for matching."
   ]
  },
  {
   "cell_type": "markdown",
   "id": "cdd83d9f",
   "metadata": {
    "slideshow": {
     "slide_type": "slide"
    }
   },
   "source": [
    "## Tools for Preprocessing: cleaning Names\n",
    "\n",
    "* Regex for cleaning\n",
    "* My personal favorite `probablepeople`-- uses NLP to separate out some fields"
   ]
  },
  {
   "cell_type": "code",
   "execution_count": 4,
   "id": "5084f130",
   "metadata": {
    "slideshow": {
     "slide_type": "fragment"
    }
   },
   "outputs": [
    {
     "data": {
      "text/plain": [
       "[('Mr.', 'PrefixMarital'),\n",
       " ('Paul', 'GivenName'),\n",
       " ('van', 'Surname'),\n",
       " ('de', 'Surname'),\n",
       " ('Boor', 'Surname')]"
      ]
     },
     "execution_count": 4,
     "metadata": {},
     "output_type": "execute_result"
    }
   ],
   "source": [
    "import probablepeople as pp\n",
    "pp.parse('Mr. Paul van de Boor')"
   ]
  },
  {
   "cell_type": "markdown",
   "id": "46fc84e4",
   "metadata": {
    "slideshow": {
     "slide_type": "slide"
    }
   },
   "source": [
    "But this isn't that good for non-English names! So you can try `nameparser`: \n"
   ]
  },
  {
   "cell_type": "code",
   "execution_count": 5,
   "id": "f80cf586",
   "metadata": {
    "slideshow": {
     "slide_type": "fragment"
    }
   },
   "outputs": [
    {
     "data": {
      "text/plain": [
       "[('Núria', 'CorporationName'),\n",
       " ('deAdell', 'CorporationName'),\n",
       " ('Raventós', 'CorporationNameOrganization')]"
      ]
     },
     "metadata": {},
     "output_type": "display_data"
    },
    {
     "data": {
      "text/plain": [
       "<HumanName : [\n",
       "\ttitle: '' \n",
       "\tfirst: 'Núria' \n",
       "\tmiddle: 'deAdell' \n",
       "\tlast: 'Raventós' \n",
       "\tsuffix: ''\n",
       "\tnickname: ''\n",
       "]>"
      ]
     },
     "metadata": {},
     "output_type": "display_data"
    }
   ],
   "source": [
    "import nameparser\n",
    "from nameparser import HumanName\n",
    "from IPython.display import display\n",
    "\n",
    "display(pp.parse('Núria deAdell Raventós'))\n",
    "display(HumanName('Núria deAdell Raventós'))"
   ]
  },
  {
   "cell_type": "markdown",
   "id": "7c45cca8",
   "metadata": {
    "slideshow": {
     "slide_type": "slide"
    }
   },
   "source": [
    "## Tools for Preprocessing: cleaning Addresses using Geocoding! \n",
    "\n",
    "\n",
    "Google Geocoder generally does a good job, but can only handle a maximum number of API queries. Google is able to:\n",
    "* Ignore lower/upper case difference\n",
    "* Ignore the difference between Suite 300 vs 330 (building entrance may be the same)\n",
    "* Consider 'Lupertino' as 'Cupertino'\n",
    "* Expand abbreviations, like 'STE' vs 'Suite'\n"
   ]
  },
  {
   "cell_type": "code",
   "execution_count": 61,
   "id": "acdc533a",
   "metadata": {
    "slideshow": {
     "slide_type": "skip"
    }
   },
   "outputs": [],
   "source": [
    "import requests\n",
    "import geocoder\n",
    "\n",
    "full_addresses = [\n",
    "    \"2066 Crist Drive, 94024, Los Altos, CALIFORNIA, US\",\n",
    "    \"2066 Crist Dr, 94024, LOS ALTOS, CALIFORNIA, US\",\n",
    "    \"20863 Stevens Creek Blvd., Suite 300, 95015, CUPERTINO, CALIFORNIA, US\",\n",
    "    \"20863 STEVENS CREEK BLVD STE 330, 95014, Lupertino, CALIFORNIA, US\",\n",
    "    \"10260 Bandley Drive, 95014, Cupertino, CALIFORNIA, US\",\n",
    "    \"10260 Bandley Dr., 95014, Cupertino, CALIFORNIA, US\",\n",
    "    \"20525 MARIANI AVENUE, 95014, CUPERTINO, CALIFORNIA, US\",\n",
    "    \"20525 Mariani Ave, 95014, CUPERTINO, CALIFORNIA, US\",\n",
    "    \"1 Infinite Loop, 95014, Cupertino, CALIFORNIA, US\",\n",
    "    \"One Infinite Loop,, 95014, Cupertino, CALIFORNIA, US\",\n",
    "    \"One Apple Park Way, 95014, Cupertino, CALIFORNIA, US\",\n",
    "    \"1 Apple Park Way, 95014, Cupertino, CALIFORNIA, US\",\n",
    "]\n",
    "\n",
    "full_addresses_latlng = []\n",
    "with requests.Session() as session:\n",
    "    for a in full_addresses:\n",
    "        a_geocoded = geocoder.google(a, session=session)\n",
    "        full_addresses_latlng.append(a_geocoded.latlng)\n",
    "\n",
    "address_latlng = list(zip(full_addresses, full_addresses_latlng))"
   ]
  },
  {
   "cell_type": "code",
   "execution_count": 62,
   "id": "57d19c3f",
   "metadata": {
    "slideshow": {
     "slide_type": "skip"
    }
   },
   "outputs": [
    {
     "name": "stdout",
     "output_type": "stream",
     "text": [
      "('20863 Stevens Creek Blvd., Suite 300, 95015, CUPERTINO, CALIFORNIA, US', None) ('20863 STEVENS CREEK BLVD STE 330, 95014, Lupertino, CALIFORNIA, US', None)\n"
     ]
    }
   ],
   "source": [
    "print(address_latlng[2], address_latlng[3])"
   ]
  },
  {
   "cell_type": "markdown",
   "id": "9beb0734",
   "metadata": {
    "slideshow": {
     "slide_type": "slide"
    }
   },
   "source": [
    "Pretty good, but not perfect.\n",
    "\n",
    "If geocoding isn't working, we can try: \n",
    "* `pypostal` or `usaaddress` parsers\n",
    "* a ton of other custom options"
   ]
  },
  {
   "cell_type": "markdown",
   "id": "abd6371b",
   "metadata": {
    "slideshow": {
     "slide_type": "slide"
    }
   },
   "source": [
    "## Tools for Preprocessing: cleaning Phone Numbers \n",
    "\n",
    "Use `phonenumbers` package"
   ]
  },
  {
   "cell_type": "code",
   "execution_count": 8,
   "id": "97c5f28f",
   "metadata": {
    "slideshow": {
     "slide_type": "fragment"
    }
   },
   "outputs": [
    {
     "name": "stdout",
     "output_type": "stream",
     "text": [
      "Phone number cleaning:\n",
      "(443) 745-7187 ->\n",
      "+14437457187\n"
     ]
    }
   ],
   "source": [
    "import phonenumbers\n",
    "\n",
    "print(\"Phone number cleaning:\")\n",
    "phone = \"(443) 745-7187\"\n",
    "print(phone, '->')\n",
    "print(\n",
    "    phonenumbers.format_number(\n",
    "        phonenumbers.parse(phone, 'US'),\n",
    "        phonenumbers.PhoneNumberFormat.E164)\n",
    ")"
   ]
  },
  {
   "cell_type": "markdown",
   "id": "5a32b401",
   "metadata": {
    "slideshow": {
     "slide_type": "slide"
    }
   },
   "source": [
    "## Tools for Preprocessing: cleaning Dates\n",
    "`dateparser`  can guess date formats and parse them as datetime objects. It can even guess DD/MM or MM/DD by the language\n"
   ]
  },
  {
   "cell_type": "code",
   "execution_count": 6,
   "id": "3c5f5dac",
   "metadata": {
    "slideshow": {
     "slide_type": "fragment"
    }
   },
   "outputs": [
    {
     "name": "stdout",
     "output_type": "stream",
     "text": [
      "1994-10-05 15:40:00\n",
      "1994-05-10 15:40:00\n"
     ]
    }
   ],
   "source": [
    "import dateparser\n",
    "\n",
    "print(dateparser.parse(\"at 10/5/1994 3:40pm\"))\n",
    "print(dateparser.parse(\"às 10/5/1994 15:40\"))"
   ]
  },
  {
   "cell_type": "markdown",
   "id": "5718b892",
   "metadata": {
    "slideshow": {
     "slide_type": "slide"
    }
   },
   "source": [
    "## Let's use a real world dataset to walk through the rest of the steps!\n",
    "\n",
    "This `restaurant` dataset is a combination restaurants from the Zagat guide and a few other guides. \n",
    "\n",
    "It has 881 rows, with 150 duplicates. `cluster` column indicates the true grouping of real-world entities.\n",
    "\n"
   ]
  },
  {
   "cell_type": "code",
   "execution_count": 9,
   "id": "ac03ecf4",
   "metadata": {
    "slideshow": {
     "slide_type": "fragment"
    }
   },
   "outputs": [
    {
     "data": {
      "text/html": [
       "<div>\n",
       "<style scoped>\n",
       "    .dataframe tbody tr th:only-of-type {\n",
       "        vertical-align: middle;\n",
       "    }\n",
       "\n",
       "    .dataframe tbody tr th {\n",
       "        vertical-align: top;\n",
       "    }\n",
       "\n",
       "    .dataframe thead th {\n",
       "        text-align: right;\n",
       "    }\n",
       "</style>\n",
       "<table border=\"1\" class=\"dataframe\">\n",
       "  <thead>\n",
       "    <tr style=\"text-align: right;\">\n",
       "      <th></th>\n",
       "      <th>name</th>\n",
       "      <th>addr</th>\n",
       "      <th>city</th>\n",
       "      <th>phone</th>\n",
       "      <th>type</th>\n",
       "      <th>cluster</th>\n",
       "    </tr>\n",
       "  </thead>\n",
       "  <tbody>\n",
       "    <tr>\n",
       "      <th>0</th>\n",
       "      <td>arnie morton's of chicago</td>\n",
       "      <td>435 s. la cienega blv.</td>\n",
       "      <td>los angeles</td>\n",
       "      <td>310/246-1501</td>\n",
       "      <td>american</td>\n",
       "      <td>0</td>\n",
       "    </tr>\n",
       "    <tr>\n",
       "      <th>1</th>\n",
       "      <td>arnie morton's of chicago</td>\n",
       "      <td>435 s. la cienega blvd.</td>\n",
       "      <td>los angeles</td>\n",
       "      <td>310-246-1501</td>\n",
       "      <td>steakhouses</td>\n",
       "      <td>0</td>\n",
       "    </tr>\n",
       "    <tr>\n",
       "      <th>2</th>\n",
       "      <td>arnie morton</td>\n",
       "      <td>435 s. la cienega boulevard</td>\n",
       "      <td>los angeles</td>\n",
       "      <td>310-246-1501</td>\n",
       "      <td>steakhouses</td>\n",
       "      <td>0</td>\n",
       "    </tr>\n",
       "    <tr>\n",
       "      <th>3</th>\n",
       "      <td>art's delicatessen</td>\n",
       "      <td>12224 ventura blvd.</td>\n",
       "      <td>studio city</td>\n",
       "      <td>818/762-1221</td>\n",
       "      <td>american</td>\n",
       "      <td>1</td>\n",
       "    </tr>\n",
       "    <tr>\n",
       "      <th>4</th>\n",
       "      <td>art's deli</td>\n",
       "      <td>12224 ventura blvd.</td>\n",
       "      <td>studio city</td>\n",
       "      <td>818-762-1221</td>\n",
       "      <td>delis</td>\n",
       "      <td>1</td>\n",
       "    </tr>\n",
       "    <tr>\n",
       "      <th>5</th>\n",
       "      <td>art's deli</td>\n",
       "      <td>12224 ventura blvd.</td>\n",
       "      <td>los angeles</td>\n",
       "      <td>818-762-1221</td>\n",
       "      <td>delis</td>\n",
       "      <td>1</td>\n",
       "    </tr>\n",
       "    <tr>\n",
       "      <th>6</th>\n",
       "      <td>hotel bel-air</td>\n",
       "      <td>701 stone canyon rd.</td>\n",
       "      <td>bel air</td>\n",
       "      <td>310/472-1211</td>\n",
       "      <td>californian</td>\n",
       "      <td>2</td>\n",
       "    </tr>\n",
       "    <tr>\n",
       "      <th>7</th>\n",
       "      <td>bel-air hotel</td>\n",
       "      <td>701 stone canyon rd.</td>\n",
       "      <td>bel air</td>\n",
       "      <td>310-472-1211</td>\n",
       "      <td>californian</td>\n",
       "      <td>2</td>\n",
       "    </tr>\n",
       "    <tr>\n",
       "      <th>8</th>\n",
       "      <td>bel-air</td>\n",
       "      <td>701 stone canyon road</td>\n",
       "      <td>bel air</td>\n",
       "      <td>(310) 472-1211</td>\n",
       "      <td>american</td>\n",
       "      <td>2</td>\n",
       "    </tr>\n",
       "    <tr>\n",
       "      <th>9</th>\n",
       "      <td>cafe bizou</td>\n",
       "      <td>14016 ventura blvd.</td>\n",
       "      <td>sherman oaks</td>\n",
       "      <td>818/788-3536</td>\n",
       "      <td>french</td>\n",
       "      <td>3</td>\n",
       "    </tr>\n",
       "    <tr>\n",
       "      <th>10</th>\n",
       "      <td>cafe bizou</td>\n",
       "      <td>14016 ventura blvd.</td>\n",
       "      <td>sherman oaks</td>\n",
       "      <td>818-788-3536</td>\n",
       "      <td>french bistro</td>\n",
       "      <td>3</td>\n",
       "    </tr>\n",
       "    <tr>\n",
       "      <th>11</th>\n",
       "      <td>cafe bizou</td>\n",
       "      <td>14016 ventura blvd.</td>\n",
       "      <td>sherman oaks</td>\n",
       "      <td>(818) 788-3536</td>\n",
       "      <td>bistro</td>\n",
       "      <td>3</td>\n",
       "    </tr>\n",
       "  </tbody>\n",
       "</table>\n",
       "</div>"
      ],
      "text/plain": [
       "                         name                         addr          city  \\\n",
       "0   arnie morton's of chicago       435 s. la cienega blv.   los angeles   \n",
       "1   arnie morton's of chicago      435 s. la cienega blvd.   los angeles   \n",
       "2                arnie morton  435 s. la cienega boulevard   los angeles   \n",
       "3          art's delicatessen          12224 ventura blvd.   studio city   \n",
       "4                  art's deli          12224 ventura blvd.   studio city   \n",
       "5                  art's deli          12224 ventura blvd.   los angeles   \n",
       "6               hotel bel-air         701 stone canyon rd.       bel air   \n",
       "7               bel-air hotel         701 stone canyon rd.       bel air   \n",
       "8                     bel-air        701 stone canyon road       bel air   \n",
       "9                  cafe bizou          14016 ventura blvd.  sherman oaks   \n",
       "10                 cafe bizou          14016 ventura blvd.  sherman oaks   \n",
       "11                 cafe bizou          14016 ventura blvd.  sherman oaks   \n",
       "\n",
       "             phone           type  cluster  \n",
       "0     310/246-1501       american        0  \n",
       "1     310-246-1501    steakhouses        0  \n",
       "2     310-246-1501    steakhouses        0  \n",
       "3     818/762-1221       american        1  \n",
       "4     818-762-1221          delis        1  \n",
       "5     818-762-1221          delis        1  \n",
       "6     310/472-1211    californian        2  \n",
       "7     310-472-1211    californian        2  \n",
       "8   (310) 472-1211       american        2  \n",
       "9     818/788-3536         french        3  \n",
       "10    818-788-3536  french bistro        3  \n",
       "11  (818) 788-3536         bistro        3  "
      ]
     },
     "execution_count": 9,
     "metadata": {},
     "output_type": "execute_result"
    }
   ],
   "source": [
    "df_with_truth = pd.read_csv('restaurant.csv')\n",
    "df_with_truth.head(12)"
   ]
  },
  {
   "cell_type": "markdown",
   "id": "b38b952e",
   "metadata": {
    "slideshow": {
     "slide_type": "slide"
    }
   },
   "source": [
    "We make things a little harder by deleting the phone + truth label (`cluster`)."
   ]
  },
  {
   "cell_type": "code",
   "execution_count": 10,
   "id": "272fb018",
   "metadata": {
    "slideshow": {
     "slide_type": "fragment"
    }
   },
   "outputs": [
    {
     "data": {
      "text/html": [
       "<div>\n",
       "<style scoped>\n",
       "    .dataframe tbody tr th:only-of-type {\n",
       "        vertical-align: middle;\n",
       "    }\n",
       "\n",
       "    .dataframe tbody tr th {\n",
       "        vertical-align: top;\n",
       "    }\n",
       "\n",
       "    .dataframe thead th {\n",
       "        text-align: right;\n",
       "    }\n",
       "</style>\n",
       "<table border=\"1\" class=\"dataframe\">\n",
       "  <thead>\n",
       "    <tr style=\"text-align: right;\">\n",
       "      <th></th>\n",
       "      <th>name</th>\n",
       "      <th>addr</th>\n",
       "      <th>city</th>\n",
       "      <th>type</th>\n",
       "    </tr>\n",
       "  </thead>\n",
       "  <tbody>\n",
       "    <tr>\n",
       "      <th>0</th>\n",
       "      <td>arnie morton's of chicago</td>\n",
       "      <td>435 s. la cienega blv.</td>\n",
       "      <td>los angeles</td>\n",
       "      <td>american</td>\n",
       "    </tr>\n",
       "    <tr>\n",
       "      <th>1</th>\n",
       "      <td>arnie morton's of chicago</td>\n",
       "      <td>435 s. la cienega blvd.</td>\n",
       "      <td>los angeles</td>\n",
       "      <td>steakhouses</td>\n",
       "    </tr>\n",
       "    <tr>\n",
       "      <th>2</th>\n",
       "      <td>arnie morton</td>\n",
       "      <td>435 s. la cienega boulevard</td>\n",
       "      <td>los angeles</td>\n",
       "      <td>steakhouses</td>\n",
       "    </tr>\n",
       "    <tr>\n",
       "      <th>3</th>\n",
       "      <td>art's delicatessen</td>\n",
       "      <td>12224 ventura blvd.</td>\n",
       "      <td>studio city</td>\n",
       "      <td>american</td>\n",
       "    </tr>\n",
       "    <tr>\n",
       "      <th>4</th>\n",
       "      <td>art's deli</td>\n",
       "      <td>12224 ventura blvd.</td>\n",
       "      <td>studio city</td>\n",
       "      <td>delis</td>\n",
       "    </tr>\n",
       "    <tr>\n",
       "      <th>5</th>\n",
       "      <td>art's deli</td>\n",
       "      <td>12224 ventura blvd.</td>\n",
       "      <td>los angeles</td>\n",
       "      <td>delis</td>\n",
       "    </tr>\n",
       "    <tr>\n",
       "      <th>6</th>\n",
       "      <td>hotel bel-air</td>\n",
       "      <td>701 stone canyon rd.</td>\n",
       "      <td>bel air</td>\n",
       "      <td>californian</td>\n",
       "    </tr>\n",
       "    <tr>\n",
       "      <th>7</th>\n",
       "      <td>bel-air hotel</td>\n",
       "      <td>701 stone canyon rd.</td>\n",
       "      <td>bel air</td>\n",
       "      <td>californian</td>\n",
       "    </tr>\n",
       "    <tr>\n",
       "      <th>8</th>\n",
       "      <td>bel-air</td>\n",
       "      <td>701 stone canyon road</td>\n",
       "      <td>bel air</td>\n",
       "      <td>american</td>\n",
       "    </tr>\n",
       "    <tr>\n",
       "      <th>9</th>\n",
       "      <td>cafe bizou</td>\n",
       "      <td>14016 ventura blvd.</td>\n",
       "      <td>sherman oaks</td>\n",
       "      <td>french</td>\n",
       "    </tr>\n",
       "    <tr>\n",
       "      <th>10</th>\n",
       "      <td>cafe bizou</td>\n",
       "      <td>14016 ventura blvd.</td>\n",
       "      <td>sherman oaks</td>\n",
       "      <td>french bistro</td>\n",
       "    </tr>\n",
       "    <tr>\n",
       "      <th>11</th>\n",
       "      <td>cafe bizou</td>\n",
       "      <td>14016 ventura blvd.</td>\n",
       "      <td>sherman oaks</td>\n",
       "      <td>bistro</td>\n",
       "    </tr>\n",
       "  </tbody>\n",
       "</table>\n",
       "</div>"
      ],
      "text/plain": [
       "                         name                         addr          city  \\\n",
       "0   arnie morton's of chicago       435 s. la cienega blv.   los angeles   \n",
       "1   arnie morton's of chicago      435 s. la cienega blvd.   los angeles   \n",
       "2                arnie morton  435 s. la cienega boulevard   los angeles   \n",
       "3          art's delicatessen          12224 ventura blvd.   studio city   \n",
       "4                  art's deli          12224 ventura blvd.   studio city   \n",
       "5                  art's deli          12224 ventura blvd.   los angeles   \n",
       "6               hotel bel-air         701 stone canyon rd.       bel air   \n",
       "7               bel-air hotel         701 stone canyon rd.       bel air   \n",
       "8                     bel-air        701 stone canyon road       bel air   \n",
       "9                  cafe bizou          14016 ventura blvd.  sherman oaks   \n",
       "10                 cafe bizou          14016 ventura blvd.  sherman oaks   \n",
       "11                 cafe bizou          14016 ventura blvd.  sherman oaks   \n",
       "\n",
       "             type  \n",
       "0        american  \n",
       "1     steakhouses  \n",
       "2     steakhouses  \n",
       "3        american  \n",
       "4           delis  \n",
       "5           delis  \n",
       "6     californian  \n",
       "7     californian  \n",
       "8        american  \n",
       "9          french  \n",
       "10  french bistro  \n",
       "11         bistro  "
      ]
     },
     "execution_count": 10,
     "metadata": {},
     "output_type": "execute_result"
    }
   ],
   "source": [
    "df = df_with_truth.drop(columns=['cluster', 'phone'])\n",
    "df.head(12)"
   ]
  },
  {
   "cell_type": "code",
   "execution_count": 12,
   "id": "929f807a",
   "metadata": {
    "slideshow": {
     "slide_type": "skip"
    }
   },
   "outputs": [
    {
     "name": "stdout",
     "output_type": "stream",
     "text": [
      "881 819\n"
     ]
    }
   ],
   "source": [
    "import numpy as np\n",
    "all_addresses = df['addr'].str.cat(df['city'], sep=', ').values\n",
    "unique_addresses = np.unique(all_addresses)\n",
    "print(len(all_addresses), len(unique_addresses))"
   ]
  },
  {
   "cell_type": "code",
   "execution_count": 13,
   "id": "a59fb398",
   "metadata": {
    "slideshow": {
     "slide_type": "skip"
    }
   },
   "outputs": [
    {
     "name": "stdout",
     "output_type": "stream",
     "text": [
      "Geocoding 1/1\n",
      "Failed to get postal from 11\n",
      "Failed to get latlng from 1\n"
     ]
    }
   ],
   "source": [
    "import os.path\n",
    "import json\n",
    "\n",
    "geocoding_filename = 'address_to_geocoding.json'\n",
    "\n",
    "def geocode_addresses(address_to_geocoding):\n",
    "    remaining_addresses = (\n",
    "        set(unique_addresses) -\n",
    "        set(k for k, v in address_to_geocoding.items() if v is not None))\n",
    "    \n",
    "    with requests.Session() as session:\n",
    "        for i, address in enumerate(remaining_addresses):\n",
    "            print(f\"Geocoding {i + 1}/{len(remaining_addresses)}\")\n",
    "            geocode_result = geocoder.google(address, session=session)\n",
    "            address_to_geocoding[address] = geocode_result.json\n",
    "\n",
    "        with open(geocoding_filename, 'w') as f:\n",
    "            json.dump(address_to_geocoding, f, indent=4)\n",
    "\n",
    "if not os.path.exists(geocoding_filename):\n",
    "    address_to_geocoding = {}\n",
    "    geocode_addresses(address_to_geocoding)\n",
    "else:\n",
    "    with open(geocoding_filename) as f:\n",
    "        address_to_geocoding = json.load(f)\n",
    "    geocode_addresses(address_to_geocoding)\n",
    " \n",
    "address_to_postal = {\n",
    "    k: v['postal']\n",
    "    for k, v in address_to_geocoding.items()\n",
    "    if v is not None and 'postal' in v\n",
    "}\n",
    "address_to_latlng = {\n",
    "    k: (v['lat'], v['lng'])\n",
    "    for k, v in address_to_geocoding.items()\n",
    "    if v is not None\n",
    "}\n",
    "print(f\"Failed to get postal from {len(address_to_geocoding) - len(address_to_postal)}\")\n",
    "print(f\"Failed to get latlng from {len(address_to_geocoding) - len(address_to_latlng)}\")"
   ]
  },
  {
   "cell_type": "code",
   "execution_count": 14,
   "id": "07033a71",
   "metadata": {
    "slideshow": {
     "slide_type": "slide"
    }
   },
   "outputs": [
    {
     "data": {
      "text/html": [
       "<div>\n",
       "<style scoped>\n",
       "    .dataframe tbody tr th:only-of-type {\n",
       "        vertical-align: middle;\n",
       "    }\n",
       "\n",
       "    .dataframe tbody tr th {\n",
       "        vertical-align: top;\n",
       "    }\n",
       "\n",
       "    .dataframe thead th {\n",
       "        text-align: right;\n",
       "    }\n",
       "</style>\n",
       "<table border=\"1\" class=\"dataframe\">\n",
       "  <thead>\n",
       "    <tr style=\"text-align: right;\">\n",
       "      <th></th>\n",
       "      <th>name</th>\n",
       "      <th>addr</th>\n",
       "      <th>city</th>\n",
       "      <th>type</th>\n",
       "      <th>postal</th>\n",
       "      <th>lat</th>\n",
       "      <th>lng</th>\n",
       "    </tr>\n",
       "  </thead>\n",
       "  <tbody>\n",
       "    <tr>\n",
       "      <th>0</th>\n",
       "      <td>arnie morton's of chicago</td>\n",
       "      <td>435 s. la cienega blv.</td>\n",
       "      <td>los angeles</td>\n",
       "      <td>american</td>\n",
       "      <td>90048</td>\n",
       "      <td>34.070708</td>\n",
       "      <td>-118.376563</td>\n",
       "    </tr>\n",
       "    <tr>\n",
       "      <th>1</th>\n",
       "      <td>arnie morton's of chicago</td>\n",
       "      <td>435 s. la cienega blvd.</td>\n",
       "      <td>los angeles</td>\n",
       "      <td>steakhouses</td>\n",
       "      <td>90048</td>\n",
       "      <td>34.070708</td>\n",
       "      <td>-118.376563</td>\n",
       "    </tr>\n",
       "    <tr>\n",
       "      <th>2</th>\n",
       "      <td>arnie morton</td>\n",
       "      <td>435 s. la cienega boulevard</td>\n",
       "      <td>los angeles</td>\n",
       "      <td>steakhouses</td>\n",
       "      <td>90048</td>\n",
       "      <td>34.070708</td>\n",
       "      <td>-118.376563</td>\n",
       "    </tr>\n",
       "    <tr>\n",
       "      <th>3</th>\n",
       "      <td>art's delicatessen</td>\n",
       "      <td>12224 ventura blvd.</td>\n",
       "      <td>studio city</td>\n",
       "      <td>american</td>\n",
       "      <td>91604</td>\n",
       "      <td>34.142963</td>\n",
       "      <td>-118.399465</td>\n",
       "    </tr>\n",
       "    <tr>\n",
       "      <th>4</th>\n",
       "      <td>art's deli</td>\n",
       "      <td>12224 ventura blvd.</td>\n",
       "      <td>studio city</td>\n",
       "      <td>delis</td>\n",
       "      <td>91604</td>\n",
       "      <td>34.142963</td>\n",
       "      <td>-118.399465</td>\n",
       "    </tr>\n",
       "    <tr>\n",
       "      <th>5</th>\n",
       "      <td>art's deli</td>\n",
       "      <td>12224 ventura blvd.</td>\n",
       "      <td>los angeles</td>\n",
       "      <td>delis</td>\n",
       "      <td>91604</td>\n",
       "      <td>34.142963</td>\n",
       "      <td>-118.399465</td>\n",
       "    </tr>\n",
       "  </tbody>\n",
       "</table>\n",
       "</div>"
      ],
      "text/plain": [
       "                        name                         addr         city  \\\n",
       "0  arnie morton's of chicago       435 s. la cienega blv.  los angeles   \n",
       "1  arnie morton's of chicago      435 s. la cienega blvd.  los angeles   \n",
       "2               arnie morton  435 s. la cienega boulevard  los angeles   \n",
       "3         art's delicatessen          12224 ventura blvd.  studio city   \n",
       "4                 art's deli          12224 ventura blvd.  studio city   \n",
       "5                 art's deli          12224 ventura blvd.  los angeles   \n",
       "\n",
       "          type postal        lat         lng  \n",
       "0     american  90048  34.070708 -118.376563  \n",
       "1  steakhouses  90048  34.070708 -118.376563  \n",
       "2  steakhouses  90048  34.070708 -118.376563  \n",
       "3     american  91604  34.142963 -118.399465  \n",
       "4        delis  91604  34.142963 -118.399465  \n",
       "5        delis  91604  34.142963 -118.399465  "
      ]
     },
     "execution_count": 14,
     "metadata": {},
     "output_type": "execute_result"
    }
   ],
   "source": [
    "def assign_postal_lat_lng(df):\n",
    "    addresses = df['addr'].str.cat(df['city'], sep=', ')\n",
    "    addresses_to_postal = [address_to_postal.get(a) for a in addresses]\n",
    "    addresses_to_lat = [address_to_latlng[a][0] if a in address_to_latlng else None for a in addresses]\n",
    "    addresses_to_lng = [address_to_latlng[a][1] if a in address_to_latlng else None for a in addresses]\n",
    "\n",
    "    return df.assign(postal=addresses_to_postal, lat=addresses_to_lat, lng=addresses_to_lng)\n",
    "\n",
    "df = assign_postal_lat_lng(df)\n",
    "df.head(6)"
   ]
  },
  {
   "cell_type": "markdown",
   "id": "310a5b59",
   "metadata": {
    "slideshow": {
     "slide_type": "slide"
    }
   },
   "source": [
    "## Step 2: Blocking\n",
    "\n",
    "We have the cleaned records, we now need the pairs we want to compare to find matches. To produce the pairs, we could do a \"full\" index, i.e., all records against all records. The formula for this is: \n",
    "`len(df) * (len(df) - 1) / 2 == 387640`\n",
    "\n",
    "![er_total](old_er.png)"
   ]
  },
  {
   "cell_type": "code",
   "execution_count": 15,
   "id": "8dd5f43b",
   "metadata": {
    "slideshow": {
     "slide_type": "slide"
    }
   },
   "outputs": [
    {
     "name": "stdout",
     "output_type": "stream",
     "text": [
      "WARNING:recordlinkage:indexing - performance warning - A full index can result in large number of record pairs.\n",
      "Complete blocking: 881 records, 387640 pairs\n"
     ]
    }
   ],
   "source": [
    "## Step 2: Blocking\n",
    "\n",
    "import recordlinkage as rl\n",
    "from recordlinkage.index import Full\n",
    "\n",
    "full_indexer = Full()\n",
    "pairs = full_indexer.index(df)\n",
    "\n",
    "print(f\"Complete blocking: {len(df)} records, {len(pairs)} pairs\")"
   ]
  },
  {
   "cell_type": "markdown",
   "id": "42553805",
   "metadata": {
    "slideshow": {
     "slide_type": "fragment"
    }
   },
   "source": [
    "The number of pairs grows too fast as the number of records grows: it grows quadratically. That's why we need **blocking**. We need to produce only pairs that are good candidates of being duplicates to avoid wasting too much time.\n",
    "\n",
    "Typically, we block on attributes we're more confident on. \n",
    "\n",
    "A blocking crtieria could be: only consider records to be potentially pairs **IF they match of zip code. 88\n",
    "\n",
    "OR another blocking criteria could be: only consider records to be potentially pairs **IF they match of zip code OR first intial of last name.**"
   ]
  },
  {
   "cell_type": "code",
   "execution_count": 17,
   "id": "036297b6",
   "metadata": {
    "slideshow": {
     "slide_type": "slide"
    }
   },
   "outputs": [
    {
     "name": "stdout",
     "output_type": "stream",
     "text": [
      "Postal index: 6462 pairs\n"
     ]
    }
   ],
   "source": [
    "from recordlinkage.index import Block\n",
    "\n",
    "postal_indexer = Block('postal')\n",
    "pairs = postal_indexer.index(df)\n",
    "\n",
    "print(f\"Postal index: {len(pairs)} pairs\")"
   ]
  },
  {
   "cell_type": "markdown",
   "id": "22aaafc9",
   "metadata": {
    "slideshow": {
     "slide_type": "slide"
    }
   },
   "source": [
    "## Step 3: Similarity Calculation (Comparison)! \n",
    "\n",
    "Now we want to run comparisons on the blocked pairs to produce a comparison vector for each pair. A comparison vector represents the similarity between 2 records by holding similarity values between 0 to 1 for each column.\n",
    "\n",
    "![er_total](old_er.png)"
   ]
  },
  {
   "cell_type": "code",
   "execution_count": 18,
   "id": "f55a817e",
   "metadata": {
    "slideshow": {
     "slide_type": "slide"
    }
   },
   "outputs": [
    {
     "data": {
      "text/html": [
       "<div>\n",
       "<style scoped>\n",
       "    .dataframe tbody tr th:only-of-type {\n",
       "        vertical-align: middle;\n",
       "    }\n",
       "\n",
       "    .dataframe tbody tr th {\n",
       "        vertical-align: top;\n",
       "    }\n",
       "\n",
       "    .dataframe thead th {\n",
       "        text-align: right;\n",
       "    }\n",
       "</style>\n",
       "<table border=\"1\" class=\"dataframe\">\n",
       "  <thead>\n",
       "    <tr style=\"text-align: right;\">\n",
       "      <th></th>\n",
       "      <th></th>\n",
       "      <th>name</th>\n",
       "      <th>addr</th>\n",
       "      <th>postal</th>\n",
       "      <th>latlng</th>\n",
       "    </tr>\n",
       "  </thead>\n",
       "  <tbody>\n",
       "    <tr>\n",
       "      <th>100</th>\n",
       "      <th>200</th>\n",
       "      <td>0.5</td>\n",
       "      <td>0.8</td>\n",
       "      <td>0.9</td>\n",
       "      <td>1</td>\n",
       "    </tr>\n",
       "  </tbody>\n",
       "</table>\n",
       "</div>"
      ],
      "text/plain": [
       "         name  addr  postal  latlng\n",
       "100 200   0.5   0.8     0.9       1"
      ]
     },
     "execution_count": 18,
     "metadata": {},
     "output_type": "execute_result"
    }
   ],
   "source": [
    "pd.DataFrame([[0.5, 0.8, 0.9, 1]],\n",
    "             columns=['name', 'addr', 'postal', 'latlng'],\n",
    "             index=pd.MultiIndex.from_arrays([[100], [200]]))"
   ]
  },
  {
   "cell_type": "markdown",
   "id": "33cd864e",
   "metadata": {
    "slideshow": {
     "slide_type": "fragment"
    }
   },
   "source": [
    "so this tells us that te pair of records `(100, 200)` has:\n",
    "\n",
    "* Low similarity on names\n",
    "* Some similarity on addresses\n",
    "* High similarity on postals\n",
    "* Equal latitude, longitude!"
   ]
  },
  {
   "cell_type": "markdown",
   "id": "d703781c",
   "metadata": {
    "slideshow": {
     "slide_type": "slide"
    }
   },
   "source": [
    "## A few more similarity calculation/comparison details: \n",
    "\n",
    "* **Strings**: Jaro-Winkler, Levenshtein distance are common.\n",
    "* Python has built in comparison methods for **numbers** (like latitude/long or age), R doesn't!\n",
    "* could use exact matching for gender or other categorical attributes\n"
   ]
  },
  {
   "cell_type": "code",
   "execution_count": 19,
   "id": "7fa6611e",
   "metadata": {},
   "outputs": [
    {
     "data": {
      "text/html": [
       "<div>\n",
       "<style scoped>\n",
       "    .dataframe tbody tr th:only-of-type {\n",
       "        vertical-align: middle;\n",
       "    }\n",
       "\n",
       "    .dataframe tbody tr th {\n",
       "        vertical-align: top;\n",
       "    }\n",
       "\n",
       "    .dataframe thead th {\n",
       "        text-align: right;\n",
       "    }\n",
       "</style>\n",
       "<table border=\"1\" class=\"dataframe\">\n",
       "  <thead>\n",
       "    <tr style=\"text-align: right;\">\n",
       "      <th></th>\n",
       "      <th></th>\n",
       "      <th>name</th>\n",
       "      <th>addr</th>\n",
       "      <th>postal</th>\n",
       "      <th>latlng</th>\n",
       "    </tr>\n",
       "  </thead>\n",
       "  <tbody>\n",
       "    <tr>\n",
       "      <th>1</th>\n",
       "      <th>0</th>\n",
       "      <td>1.000000</td>\n",
       "      <td>0.985507</td>\n",
       "      <td>1.0</td>\n",
       "      <td>1.000000</td>\n",
       "    </tr>\n",
       "    <tr>\n",
       "      <th rowspan=\"2\" valign=\"top\">2</th>\n",
       "      <th>0</th>\n",
       "      <td>0.896000</td>\n",
       "      <td>0.910774</td>\n",
       "      <td>1.0</td>\n",
       "      <td>1.000000</td>\n",
       "    </tr>\n",
       "    <tr>\n",
       "      <th>1</th>\n",
       "      <td>0.896000</td>\n",
       "      <td>0.923779</td>\n",
       "      <td>1.0</td>\n",
       "      <td>1.000000</td>\n",
       "    </tr>\n",
       "    <tr>\n",
       "      <th rowspan=\"2\" valign=\"top\">32</th>\n",
       "      <th>0</th>\n",
       "      <td>0.520128</td>\n",
       "      <td>0.580927</td>\n",
       "      <td>1.0</td>\n",
       "      <td>0.000025</td>\n",
       "    </tr>\n",
       "    <tr>\n",
       "      <th>1</th>\n",
       "      <td>0.520128</td>\n",
       "      <td>0.574339</td>\n",
       "      <td>1.0</td>\n",
       "      <td>0.000025</td>\n",
       "    </tr>\n",
       "  </tbody>\n",
       "</table>\n",
       "</div>"
      ],
      "text/plain": [
       "          name      addr  postal    latlng\n",
       "1  0  1.000000  0.985507     1.0  1.000000\n",
       "2  0  0.896000  0.910774     1.0  1.000000\n",
       "   1  0.896000  0.923779     1.0  1.000000\n",
       "32 0  0.520128  0.580927     1.0  0.000025\n",
       "   1  0.520128  0.574339     1.0  0.000025"
      ]
     },
     "execution_count": 19,
     "metadata": {},
     "output_type": "execute_result"
    }
   ],
   "source": [
    "comp = rl.Compare()\n",
    "comp.string('name', 'name', method='jarowinkler', label='name')\n",
    "comp.string('addr', 'addr', method='jarowinkler', label='addr')\n",
    "comp.string('postal', 'postal', method='jarowinkler', label='postal')\n",
    "comp.geo('lat', 'lng', 'lat', 'lng', method='exp', scale=0.1, offset=0.01, label='latlng');\n",
    "\n",
    "comparison_vectors = comp.compute(pairs, df)\n",
    "comparison_vectors.head(5)"
   ]
  },
  {
   "cell_type": "markdown",
   "id": "7fdd5785",
   "metadata": {
    "slideshow": {
     "slide_type": "slide"
    }
   },
   "source": [
    "## Step 4: Classification\n",
    "\n",
    "We're going to talk about a few different ways to classify comparison vectors.\n",
    "\n",
    "![er_total](old_er.png)\n",
    "\n",
    "\n"
   ]
  },
  {
   "cell_type": "markdown",
   "id": "d43f3ccb",
   "metadata": {
    "slideshow": {
     "slide_type": "slide"
    }
   },
   "source": [
    "## Threshold-Based Classification\n",
    "A simple way to classify comparison vectors as matches or nonmatches is to compute a weighted average over the vectors to get a score.\n"
   ]
  },
  {
   "cell_type": "code",
   "execution_count": 20,
   "id": "a60ab265",
   "metadata": {
    "slideshow": {
     "slide_type": "fragment"
    }
   },
   "outputs": [
    {
     "data": {
      "text/html": [
       "<div>\n",
       "<style scoped>\n",
       "    .dataframe tbody tr th:only-of-type {\n",
       "        vertical-align: middle;\n",
       "    }\n",
       "\n",
       "    .dataframe tbody tr th {\n",
       "        vertical-align: top;\n",
       "    }\n",
       "\n",
       "    .dataframe thead th {\n",
       "        text-align: right;\n",
       "    }\n",
       "</style>\n",
       "<table border=\"1\" class=\"dataframe\">\n",
       "  <thead>\n",
       "    <tr style=\"text-align: right;\">\n",
       "      <th></th>\n",
       "      <th></th>\n",
       "      <th>name</th>\n",
       "      <th>addr</th>\n",
       "      <th>postal</th>\n",
       "      <th>latlng</th>\n",
       "      <th>score</th>\n",
       "    </tr>\n",
       "  </thead>\n",
       "  <tbody>\n",
       "    <tr>\n",
       "      <th>1</th>\n",
       "      <th>0</th>\n",
       "      <td>1.000000</td>\n",
       "      <td>0.985507</td>\n",
       "      <td>1.0</td>\n",
       "      <td>1.000000</td>\n",
       "      <td>0.996047</td>\n",
       "    </tr>\n",
       "    <tr>\n",
       "      <th rowspan=\"2\" valign=\"top\">2</th>\n",
       "      <th>0</th>\n",
       "      <td>0.896000</td>\n",
       "      <td>0.910774</td>\n",
       "      <td>1.0</td>\n",
       "      <td>1.000000</td>\n",
       "      <td>0.928393</td>\n",
       "    </tr>\n",
       "    <tr>\n",
       "      <th>1</th>\n",
       "      <td>0.896000</td>\n",
       "      <td>0.923779</td>\n",
       "      <td>1.0</td>\n",
       "      <td>1.000000</td>\n",
       "      <td>0.931940</td>\n",
       "    </tr>\n",
       "    <tr>\n",
       "      <th rowspan=\"2\" valign=\"top\">32</th>\n",
       "      <th>0</th>\n",
       "      <td>0.520128</td>\n",
       "      <td>0.580927</td>\n",
       "      <td>1.0</td>\n",
       "      <td>0.000025</td>\n",
       "      <td>0.485770</td>\n",
       "    </tr>\n",
       "    <tr>\n",
       "      <th>1</th>\n",
       "      <td>0.520128</td>\n",
       "      <td>0.574339</td>\n",
       "      <td>1.0</td>\n",
       "      <td>0.000025</td>\n",
       "      <td>0.483974</td>\n",
       "    </tr>\n",
       "  </tbody>\n",
       "</table>\n",
       "</div>"
      ],
      "text/plain": [
       "          name      addr  postal    latlng     score\n",
       "1  0  1.000000  0.985507     1.0  1.000000  0.996047\n",
       "2  0  0.896000  0.910774     1.0  1.000000  0.928393\n",
       "   1  0.896000  0.923779     1.0  1.000000  0.931940\n",
       "32 0  0.520128  0.580927     1.0  0.000025  0.485770\n",
       "   1  0.520128  0.574339     1.0  0.000025  0.483974"
      ]
     },
     "execution_count": 20,
     "metadata": {},
     "output_type": "execute_result"
    }
   ],
   "source": [
    "scores = np.average(\n",
    "    comparison_vectors.values,\n",
    "    axis=1,\n",
    "    weights=[50, 30, 10, 20])\n",
    "scored_comparison_vectors = comparison_vectors.assign(score=scores)\n",
    "scored_comparison_vectors.head(5)"
   ]
  },
  {
   "cell_type": "markdown",
   "id": "7891152a",
   "metadata": {
    "slideshow": {
     "slide_type": "slide"
    }
   },
   "source": [
    "## But Abby: how are the weights computed? \n",
    "\n",
    "* honestly in practice I feel like people just guess #SAD #CRY\n",
    "* The often-used probabilistic way, Felligi-Sunter (1969): each field (name, address, etc.) is assigned an agreement weight and a disagreement weight. \n",
    "* These **weights are log likelihood ratios** based on the ability of field values to discriminate between records and the probability that the values contain errors. Sex has poor discrimination because there are very few options. Last name has high discrimination. \n",
    "\n",
    "$$log(\\frac{\\text{matching prob of field}}{\\text{non-matching prob of field}}) $$ \n",
    "\n",
    "* This helps us account for the fact that if two records are more likely to be the same person if they match on a less common last name like 'Vajiac' instead of'Smith'\n",
    "* the expectation-maximation (EM) algorithm is used to estimate field weights (Winkler 1990) better!\n",
    "\n",
    "\n"
   ]
  },
  {
   "cell_type": "markdown",
   "id": "cd43d661",
   "metadata": {
    "slideshow": {
     "slide_type": "slide"
    }
   },
   "source": [
    "## Dumb Assumptions that never hold in practice\n",
    "\n",
    "* Matching probabilities are independent from one another \n",
    "* Comparison vectors between pairs are independent from one another"
   ]
  },
  {
   "cell_type": "markdown",
   "id": "6419e3a3",
   "metadata": {
    "slideshow": {
     "slide_type": "slide"
    }
   },
   "source": [
    "Let's take a quick look at records in rows `0` to `5`."
   ]
  },
  {
   "cell_type": "code",
   "execution_count": 65,
   "id": "3bb6497d",
   "metadata": {
    "slideshow": {
     "slide_type": "fragment"
    }
   },
   "outputs": [
    {
     "data": {
      "text/html": [
       "<div>\n",
       "<style scoped>\n",
       "    .dataframe tbody tr th:only-of-type {\n",
       "        vertical-align: middle;\n",
       "    }\n",
       "\n",
       "    .dataframe tbody tr th {\n",
       "        vertical-align: top;\n",
       "    }\n",
       "\n",
       "    .dataframe thead th {\n",
       "        text-align: right;\n",
       "    }\n",
       "</style>\n",
       "<table border=\"1\" class=\"dataframe\">\n",
       "  <thead>\n",
       "    <tr style=\"text-align: right;\">\n",
       "      <th></th>\n",
       "      <th>name</th>\n",
       "      <th>addr</th>\n",
       "      <th>city</th>\n",
       "      <th>type</th>\n",
       "      <th>postal</th>\n",
       "      <th>lat</th>\n",
       "      <th>lng</th>\n",
       "    </tr>\n",
       "  </thead>\n",
       "  <tbody>\n",
       "    <tr>\n",
       "      <th>0</th>\n",
       "      <td>arnie morton's of chicago</td>\n",
       "      <td>435 s. la cienega blv.</td>\n",
       "      <td>los angeles</td>\n",
       "      <td>american</td>\n",
       "      <td>90048</td>\n",
       "      <td>34.070708</td>\n",
       "      <td>-118.376563</td>\n",
       "    </tr>\n",
       "    <tr>\n",
       "      <th>1</th>\n",
       "      <td>arnie morton's of chicago</td>\n",
       "      <td>435 s. la cienega blvd.</td>\n",
       "      <td>los angeles</td>\n",
       "      <td>steakhouses</td>\n",
       "      <td>90048</td>\n",
       "      <td>34.070708</td>\n",
       "      <td>-118.376563</td>\n",
       "    </tr>\n",
       "    <tr>\n",
       "      <th>2</th>\n",
       "      <td>arnie morton</td>\n",
       "      <td>435 s. la cienega boulevard</td>\n",
       "      <td>los angeles</td>\n",
       "      <td>steakhouses</td>\n",
       "      <td>90048</td>\n",
       "      <td>34.070708</td>\n",
       "      <td>-118.376563</td>\n",
       "    </tr>\n",
       "    <tr>\n",
       "      <th>3</th>\n",
       "      <td>art's delicatessen</td>\n",
       "      <td>12224 ventura blvd.</td>\n",
       "      <td>studio city</td>\n",
       "      <td>american</td>\n",
       "      <td>91604</td>\n",
       "      <td>34.142963</td>\n",
       "      <td>-118.399465</td>\n",
       "    </tr>\n",
       "    <tr>\n",
       "      <th>4</th>\n",
       "      <td>art's deli</td>\n",
       "      <td>12224 ventura blvd.</td>\n",
       "      <td>studio city</td>\n",
       "      <td>delis</td>\n",
       "      <td>91604</td>\n",
       "      <td>34.142963</td>\n",
       "      <td>-118.399465</td>\n",
       "    </tr>\n",
       "    <tr>\n",
       "      <th>5</th>\n",
       "      <td>art's deli</td>\n",
       "      <td>12224 ventura blvd.</td>\n",
       "      <td>los angeles</td>\n",
       "      <td>delis</td>\n",
       "      <td>91604</td>\n",
       "      <td>34.142963</td>\n",
       "      <td>-118.399465</td>\n",
       "    </tr>\n",
       "  </tbody>\n",
       "</table>\n",
       "</div>"
      ],
      "text/plain": [
       "                        name                         addr         city  \\\n",
       "0  arnie morton's of chicago       435 s. la cienega blv.  los angeles   \n",
       "1  arnie morton's of chicago      435 s. la cienega blvd.  los angeles   \n",
       "2               arnie morton  435 s. la cienega boulevard  los angeles   \n",
       "3         art's delicatessen          12224 ventura blvd.  studio city   \n",
       "4                 art's deli          12224 ventura blvd.  studio city   \n",
       "5                 art's deli          12224 ventura blvd.  los angeles   \n",
       "\n",
       "          type postal        lat         lng  \n",
       "0     american  90048  34.070708 -118.376563  \n",
       "1  steakhouses  90048  34.070708 -118.376563  \n",
       "2  steakhouses  90048  34.070708 -118.376563  \n",
       "3     american  91604  34.142963 -118.399465  \n",
       "4        delis  91604  34.142963 -118.399465  \n",
       "5        delis  91604  34.142963 -118.399465  "
      ]
     },
     "execution_count": 65,
     "metadata": {},
     "output_type": "execute_result"
    }
   ],
   "source": [
    "df.head(6)"
   ]
  },
  {
   "cell_type": "code",
   "execution_count": 27,
   "id": "3c4d3880",
   "metadata": {
    "slideshow": {
     "slide_type": "fragment"
    }
   },
   "outputs": [
    {
     "data": {
      "text/html": [
       "<div>\n",
       "<style scoped>\n",
       "    .dataframe tbody tr th:only-of-type {\n",
       "        vertical-align: middle;\n",
       "    }\n",
       "\n",
       "    .dataframe tbody tr th {\n",
       "        vertical-align: top;\n",
       "    }\n",
       "\n",
       "    .dataframe thead th {\n",
       "        text-align: right;\n",
       "    }\n",
       "</style>\n",
       "<table border=\"1\" class=\"dataframe\">\n",
       "  <thead>\n",
       "    <tr style=\"text-align: right;\">\n",
       "      <th></th>\n",
       "      <th></th>\n",
       "      <th>name</th>\n",
       "      <th>addr</th>\n",
       "      <th>postal</th>\n",
       "      <th>latlng</th>\n",
       "      <th>score</th>\n",
       "    </tr>\n",
       "  </thead>\n",
       "  <tbody>\n",
       "    <tr>\n",
       "      <th>1</th>\n",
       "      <th>0</th>\n",
       "      <td>1.000000</td>\n",
       "      <td>0.985507</td>\n",
       "      <td>1.0</td>\n",
       "      <td>1.0</td>\n",
       "      <td>0.996047</td>\n",
       "    </tr>\n",
       "    <tr>\n",
       "      <th rowspan=\"2\" valign=\"top\">2</th>\n",
       "      <th>0</th>\n",
       "      <td>0.896000</td>\n",
       "      <td>0.910774</td>\n",
       "      <td>1.0</td>\n",
       "      <td>1.0</td>\n",
       "      <td>0.928393</td>\n",
       "    </tr>\n",
       "    <tr>\n",
       "      <th>1</th>\n",
       "      <td>0.896000</td>\n",
       "      <td>0.923779</td>\n",
       "      <td>1.0</td>\n",
       "      <td>1.0</td>\n",
       "      <td>0.931940</td>\n",
       "    </tr>\n",
       "    <tr>\n",
       "      <th>33</th>\n",
       "      <th>32</th>\n",
       "      <td>0.896296</td>\n",
       "      <td>1.000000</td>\n",
       "      <td>1.0</td>\n",
       "      <td>1.0</td>\n",
       "      <td>0.952862</td>\n",
       "    </tr>\n",
       "    <tr>\n",
       "      <th>36</th>\n",
       "      <th>35</th>\n",
       "      <td>1.000000</td>\n",
       "      <td>0.809804</td>\n",
       "      <td>1.0</td>\n",
       "      <td>1.0</td>\n",
       "      <td>0.948128</td>\n",
       "    </tr>\n",
       "    <tr>\n",
       "      <th>4</th>\n",
       "      <th>3</th>\n",
       "      <td>0.911111</td>\n",
       "      <td>1.000000</td>\n",
       "      <td>1.0</td>\n",
       "      <td>1.0</td>\n",
       "      <td>0.959596</td>\n",
       "    </tr>\n",
       "    <tr>\n",
       "      <th rowspan=\"2\" valign=\"top\">5</th>\n",
       "      <th>3</th>\n",
       "      <td>0.911111</td>\n",
       "      <td>1.000000</td>\n",
       "      <td>1.0</td>\n",
       "      <td>1.0</td>\n",
       "      <td>0.959596</td>\n",
       "    </tr>\n",
       "    <tr>\n",
       "      <th>4</th>\n",
       "      <td>1.000000</td>\n",
       "      <td>1.000000</td>\n",
       "      <td>1.0</td>\n",
       "      <td>1.0</td>\n",
       "      <td>1.000000</td>\n",
       "    </tr>\n",
       "    <tr>\n",
       "      <th>49</th>\n",
       "      <th>48</th>\n",
       "      <td>1.000000</td>\n",
       "      <td>1.000000</td>\n",
       "      <td>1.0</td>\n",
       "      <td>1.0</td>\n",
       "      <td>1.000000</td>\n",
       "    </tr>\n",
       "    <tr>\n",
       "      <th>50</th>\n",
       "      <th>48</th>\n",
       "      <td>1.000000</td>\n",
       "      <td>0.909992</td>\n",
       "      <td>1.0</td>\n",
       "      <td>1.0</td>\n",
       "      <td>0.975452</td>\n",
       "    </tr>\n",
       "  </tbody>\n",
       "</table>\n",
       "</div>"
      ],
      "text/plain": [
       "           name      addr  postal  latlng     score\n",
       "1  0   1.000000  0.985507     1.0     1.0  0.996047\n",
       "2  0   0.896000  0.910774     1.0     1.0  0.928393\n",
       "   1   0.896000  0.923779     1.0     1.0  0.931940\n",
       "33 32  0.896296  1.000000     1.0     1.0  0.952862\n",
       "36 35  1.000000  0.809804     1.0     1.0  0.948128\n",
       "4  3   0.911111  1.000000     1.0     1.0  0.959596\n",
       "5  3   0.911111  1.000000     1.0     1.0  0.959596\n",
       "   4   1.000000  1.000000     1.0     1.0  1.000000\n",
       "49 48  1.000000  1.000000     1.0     1.0  1.000000\n",
       "50 48  1.000000  0.909992     1.0     1.0  0.975452"
      ]
     },
     "execution_count": 27,
     "metadata": {},
     "output_type": "execute_result"
    }
   ],
   "source": [
    "matches = scored_comparison_vectors[\n",
    "    scored_comparison_vectors['score'] >= 0.9]\n",
    "matches.head(10)\n"
   ]
  },
  {
   "cell_type": "markdown",
   "id": "91199c63",
   "metadata": {
    "slideshow": {
     "slide_type": "slide"
    }
   },
   "source": [
    "\n",
    "![test](threshold_based.png)\n",
    "\n",
    "In Felligi-Sunter, classify a pair as a match if: \n",
    "$$\\log(\\frac{m}{u}) > t $$\n"
   ]
  },
  {
   "cell_type": "code",
   "execution_count": 31,
   "id": "b1bd8bec",
   "metadata": {
    "slideshow": {
     "slide_type": "slide"
    }
   },
   "outputs": [
    {
     "name": "stdout",
     "output_type": "stream",
     "text": [
      "Golden pairs: 150\n",
      "true_positives total: 127\n",
      "false_positives total: 2\n",
      "false_negatives total: 23\n"
     ]
    }
   ],
   "source": [
    "golden_pairs = Block('cluster').index(df_with_truth)\n",
    "print(\"Golden pairs:\", len(golden_pairs))\n",
    "\n",
    "found_pairs_set = set(matches.index)\n",
    "\n",
    "golden_pairs_set = set(golden_pairs)\n",
    "\n",
    "true_positives = golden_pairs_set & found_pairs_set\n",
    "false_positives = found_pairs_set - golden_pairs_set\n",
    "false_negatives = golden_pairs_set - found_pairs_set\n",
    "\n",
    "print('true_positives total:', len(true_positives))\n",
    "print('false_positives total:', len(false_positives))\n",
    "print('false_negatives total:', len(false_negatives))"
   ]
  },
  {
   "cell_type": "markdown",
   "id": "36ff1f46",
   "metadata": {
    "slideshow": {
     "slide_type": "slide"
    }
   },
   "source": [
    "Just a couple of false positives:"
   ]
  },
  {
   "cell_type": "code",
   "execution_count": 29,
   "id": "a8da3ee7",
   "metadata": {
    "slideshow": {
     "slide_type": "fragment"
    }
   },
   "outputs": [
    {
     "name": "stdout",
     "output_type": "stream",
     "text": [
      "False positives:\n"
     ]
    },
    {
     "data": {
      "text/html": [
       "<div>\n",
       "<style scoped>\n",
       "    .dataframe tbody tr th:only-of-type {\n",
       "        vertical-align: middle;\n",
       "    }\n",
       "\n",
       "    .dataframe tbody tr th {\n",
       "        vertical-align: top;\n",
       "    }\n",
       "\n",
       "    .dataframe thead th {\n",
       "        text-align: right;\n",
       "    }\n",
       "</style>\n",
       "<table border=\"1\" class=\"dataframe\">\n",
       "  <thead>\n",
       "    <tr style=\"text-align: right;\">\n",
       "      <th></th>\n",
       "      <th>name</th>\n",
       "      <th>addr</th>\n",
       "      <th>postal</th>\n",
       "      <th>lat</th>\n",
       "      <th>lng</th>\n",
       "    </tr>\n",
       "  </thead>\n",
       "  <tbody>\n",
       "    <tr>\n",
       "      <th>198</th>\n",
       "      <td>ritz-carlton dining room (buckhead)</td>\n",
       "      <td>3434 peachtree rd. ne</td>\n",
       "      <td>30326</td>\n",
       "      <td>33.850488</td>\n",
       "      <td>-84.363631</td>\n",
       "    </tr>\n",
       "    <tr>\n",
       "      <th>196</th>\n",
       "      <td>ritz-carlton cafe (buckhead)</td>\n",
       "      <td>3434 peachtree rd. ne</td>\n",
       "      <td>30326</td>\n",
       "      <td>33.850488</td>\n",
       "      <td>-84.363631</td>\n",
       "    </tr>\n",
       "  </tbody>\n",
       "</table>\n",
       "</div>"
      ],
      "text/plain": [
       "                                    name                   addr postal  \\\n",
       "198  ritz-carlton dining room (buckhead)  3434 peachtree rd. ne  30326   \n",
       "196         ritz-carlton cafe (buckhead)  3434 peachtree rd. ne  30326   \n",
       "\n",
       "           lat        lng  \n",
       "198  33.850488 -84.363631  \n",
       "196  33.850488 -84.363631  "
      ]
     },
     "metadata": {},
     "output_type": "display_data"
    },
    {
     "data": {
      "text/html": [
       "<div>\n",
       "<style scoped>\n",
       "    .dataframe tbody tr th:only-of-type {\n",
       "        vertical-align: middle;\n",
       "    }\n",
       "\n",
       "    .dataframe tbody tr th {\n",
       "        vertical-align: top;\n",
       "    }\n",
       "\n",
       "    .dataframe thead th {\n",
       "        text-align: right;\n",
       "    }\n",
       "</style>\n",
       "<table border=\"1\" class=\"dataframe\">\n",
       "  <thead>\n",
       "    <tr style=\"text-align: right;\">\n",
       "      <th></th>\n",
       "      <th>name</th>\n",
       "      <th>addr</th>\n",
       "      <th>postal</th>\n",
       "      <th>lat</th>\n",
       "      <th>lng</th>\n",
       "    </tr>\n",
       "  </thead>\n",
       "  <tbody>\n",
       "    <tr>\n",
       "      <th>839</th>\n",
       "      <td>ritz-carlton cafe (atlanta)</td>\n",
       "      <td>181 peachtree st.</td>\n",
       "      <td>30303</td>\n",
       "      <td>33.758572</td>\n",
       "      <td>-84.387181</td>\n",
       "    </tr>\n",
       "    <tr>\n",
       "      <th>200</th>\n",
       "      <td>ritz-carlton restaurant</td>\n",
       "      <td>181 peachtree st.</td>\n",
       "      <td>30303</td>\n",
       "      <td>33.758572</td>\n",
       "      <td>-84.387181</td>\n",
       "    </tr>\n",
       "  </tbody>\n",
       "</table>\n",
       "</div>"
      ],
      "text/plain": [
       "                            name               addr postal        lat  \\\n",
       "839  ritz-carlton cafe (atlanta)  181 peachtree st.  30303  33.758572   \n",
       "200      ritz-carlton restaurant  181 peachtree st.  30303  33.758572   \n",
       "\n",
       "           lng  \n",
       "839 -84.387181  \n",
       "200 -84.387181  "
      ]
     },
     "metadata": {},
     "output_type": "display_data"
    }
   ],
   "source": [
    "print(f\"False positives:\")\n",
    "for false_positive_pair in false_positives:\n",
    "    display(df.loc[list(false_positive_pair)][['name', 'addr', 'postal', 'lat', 'lng']])"
   ]
  },
  {
   "cell_type": "markdown",
   "id": "098501f8",
   "metadata": {
    "slideshow": {
     "slide_type": "slide"
    }
   },
   "source": [
    "But lots of false negatives!!! "
   ]
  },
  {
   "cell_type": "code",
   "execution_count": 32,
   "id": "7287ea78",
   "metadata": {
    "slideshow": {
     "slide_type": "fragment"
    }
   },
   "outputs": [
    {
     "name": "stdout",
     "output_type": "stream",
     "text": [
      "False negatives (sample 10 of 23):\n"
     ]
    },
    {
     "data": {
      "text/html": [
       "<div>\n",
       "<style scoped>\n",
       "    .dataframe tbody tr th:only-of-type {\n",
       "        vertical-align: middle;\n",
       "    }\n",
       "\n",
       "    .dataframe tbody tr th {\n",
       "        vertical-align: top;\n",
       "    }\n",
       "\n",
       "    .dataframe thead th {\n",
       "        text-align: right;\n",
       "    }\n",
       "</style>\n",
       "<table border=\"1\" class=\"dataframe\">\n",
       "  <thead>\n",
       "    <tr style=\"text-align: right;\">\n",
       "      <th></th>\n",
       "      <th>name</th>\n",
       "      <th>addr</th>\n",
       "      <th>postal</th>\n",
       "      <th>lat</th>\n",
       "      <th>lng</th>\n",
       "    </tr>\n",
       "  </thead>\n",
       "  <tbody>\n",
       "    <tr>\n",
       "      <th>165</th>\n",
       "      <td>abruzzi</td>\n",
       "      <td>2355 peachtree rd. ne</td>\n",
       "      <td>30305</td>\n",
       "      <td>33.819166</td>\n",
       "      <td>-84.387518</td>\n",
       "    </tr>\n",
       "    <tr>\n",
       "      <th>164</th>\n",
       "      <td>abruzzi</td>\n",
       "      <td>2355 peachtree rd.  peachtree battle shopping ...</td>\n",
       "      <td>30305</td>\n",
       "      <td>33.819818</td>\n",
       "      <td>-84.386643</td>\n",
       "    </tr>\n",
       "  </tbody>\n",
       "</table>\n",
       "</div>"
      ],
      "text/plain": [
       "        name                                               addr postal  \\\n",
       "165  abruzzi                              2355 peachtree rd. ne  30305   \n",
       "164  abruzzi  2355 peachtree rd.  peachtree battle shopping ...  30305   \n",
       "\n",
       "           lat        lng  \n",
       "165  33.819166 -84.387518  \n",
       "164  33.819818 -84.386643  "
      ]
     },
     "metadata": {},
     "output_type": "display_data"
    },
    {
     "data": {
      "text/html": [
       "<div>\n",
       "<style scoped>\n",
       "    .dataframe tbody tr th:only-of-type {\n",
       "        vertical-align: middle;\n",
       "    }\n",
       "\n",
       "    .dataframe tbody tr th {\n",
       "        vertical-align: top;\n",
       "    }\n",
       "\n",
       "    .dataframe thead th {\n",
       "        text-align: right;\n",
       "    }\n",
       "</style>\n",
       "<table border=\"1\" class=\"dataframe\">\n",
       "  <thead>\n",
       "    <tr style=\"text-align: right;\">\n",
       "      <th></th>\n",
       "      <th>name</th>\n",
       "      <th>addr</th>\n",
       "      <th>postal</th>\n",
       "      <th>lat</th>\n",
       "      <th>lng</th>\n",
       "    </tr>\n",
       "  </thead>\n",
       "  <tbody>\n",
       "    <tr>\n",
       "      <th>35</th>\n",
       "      <td>locanda veneta</td>\n",
       "      <td>8638 w. third st.</td>\n",
       "      <td>90048</td>\n",
       "      <td>34.073421</td>\n",
       "      <td>-118.381098</td>\n",
       "    </tr>\n",
       "    <tr>\n",
       "      <th>34</th>\n",
       "      <td>locanda veneta</td>\n",
       "      <td>3rd st.</td>\n",
       "      <td>None</td>\n",
       "      <td>34.009031</td>\n",
       "      <td>-118.488174</td>\n",
       "    </tr>\n",
       "  </tbody>\n",
       "</table>\n",
       "</div>"
      ],
      "text/plain": [
       "              name               addr postal        lat         lng\n",
       "35  locanda veneta  8638 w. third st.  90048  34.073421 -118.381098\n",
       "34  locanda veneta            3rd st.   None  34.009031 -118.488174"
      ]
     },
     "metadata": {},
     "output_type": "display_data"
    },
    {
     "data": {
      "text/html": [
       "<div>\n",
       "<style scoped>\n",
       "    .dataframe tbody tr th:only-of-type {\n",
       "        vertical-align: middle;\n",
       "    }\n",
       "\n",
       "    .dataframe tbody tr th {\n",
       "        vertical-align: top;\n",
       "    }\n",
       "\n",
       "    .dataframe thead th {\n",
       "        text-align: right;\n",
       "    }\n",
       "</style>\n",
       "<table border=\"1\" class=\"dataframe\">\n",
       "  <thead>\n",
       "    <tr style=\"text-align: right;\">\n",
       "      <th></th>\n",
       "      <th>name</th>\n",
       "      <th>addr</th>\n",
       "      <th>postal</th>\n",
       "      <th>lat</th>\n",
       "      <th>lng</th>\n",
       "    </tr>\n",
       "  </thead>\n",
       "  <tbody>\n",
       "    <tr>\n",
       "      <th>29</th>\n",
       "      <td>katsu</td>\n",
       "      <td>1972 hillhurst ave.</td>\n",
       "      <td>90027</td>\n",
       "      <td>34.107403</td>\n",
       "      <td>-118.287172</td>\n",
       "    </tr>\n",
       "    <tr>\n",
       "      <th>28</th>\n",
       "      <td>restaurant katsu</td>\n",
       "      <td>1972 n. hillhurst ave.</td>\n",
       "      <td>90027</td>\n",
       "      <td>34.107403</td>\n",
       "      <td>-118.287172</td>\n",
       "    </tr>\n",
       "  </tbody>\n",
       "</table>\n",
       "</div>"
      ],
      "text/plain": [
       "                name                    addr postal        lat         lng\n",
       "29             katsu     1972 hillhurst ave.  90027  34.107403 -118.287172\n",
       "28  restaurant katsu  1972 n. hillhurst ave.  90027  34.107403 -118.287172"
      ]
     },
     "metadata": {},
     "output_type": "display_data"
    },
    {
     "data": {
      "text/html": [
       "<div>\n",
       "<style scoped>\n",
       "    .dataframe tbody tr th:only-of-type {\n",
       "        vertical-align: middle;\n",
       "    }\n",
       "\n",
       "    .dataframe tbody tr th {\n",
       "        vertical-align: top;\n",
       "    }\n",
       "\n",
       "    .dataframe thead th {\n",
       "        text-align: right;\n",
       "    }\n",
       "</style>\n",
       "<table border=\"1\" class=\"dataframe\">\n",
       "  <thead>\n",
       "    <tr style=\"text-align: right;\">\n",
       "      <th></th>\n",
       "      <th>name</th>\n",
       "      <th>addr</th>\n",
       "      <th>postal</th>\n",
       "      <th>lat</th>\n",
       "      <th>lng</th>\n",
       "    </tr>\n",
       "  </thead>\n",
       "  <tbody>\n",
       "    <tr>\n",
       "      <th>37</th>\n",
       "      <td>locanda</td>\n",
       "      <td>w. third st.</td>\n",
       "      <td>None</td>\n",
       "      <td>34.068947</td>\n",
       "      <td>-118.322599</td>\n",
       "    </tr>\n",
       "    <tr>\n",
       "      <th>36</th>\n",
       "      <td>locanda veneta</td>\n",
       "      <td>8638 w 3rd</td>\n",
       "      <td>90048</td>\n",
       "      <td>34.073421</td>\n",
       "      <td>-118.381098</td>\n",
       "    </tr>\n",
       "  </tbody>\n",
       "</table>\n",
       "</div>"
      ],
      "text/plain": [
       "              name          addr postal        lat         lng\n",
       "37         locanda  w. third st.   None  34.068947 -118.322599\n",
       "36  locanda veneta    8638 w 3rd  90048  34.073421 -118.381098"
      ]
     },
     "metadata": {},
     "output_type": "display_data"
    },
    {
     "data": {
      "text/html": [
       "<div>\n",
       "<style scoped>\n",
       "    .dataframe tbody tr th:only-of-type {\n",
       "        vertical-align: middle;\n",
       "    }\n",
       "\n",
       "    .dataframe tbody tr th {\n",
       "        vertical-align: top;\n",
       "    }\n",
       "\n",
       "    .dataframe thead th {\n",
       "        text-align: right;\n",
       "    }\n",
       "</style>\n",
       "<table border=\"1\" class=\"dataframe\">\n",
       "  <thead>\n",
       "    <tr style=\"text-align: right;\">\n",
       "      <th></th>\n",
       "      <th>name</th>\n",
       "      <th>addr</th>\n",
       "      <th>postal</th>\n",
       "      <th>lat</th>\n",
       "      <th>lng</th>\n",
       "    </tr>\n",
       "  </thead>\n",
       "  <tbody>\n",
       "    <tr>\n",
       "      <th>183</th>\n",
       "      <td>heera of india</td>\n",
       "      <td>595 piedmont ave.</td>\n",
       "      <td>30308</td>\n",
       "      <td>33.770298</td>\n",
       "      <td>-84.381122</td>\n",
       "    </tr>\n",
       "    <tr>\n",
       "      <th>182</th>\n",
       "      <td>heera of india</td>\n",
       "      <td>595 piedmont ave.  rio shopping mall</td>\n",
       "      <td>30324</td>\n",
       "      <td>33.798336</td>\n",
       "      <td>-84.371044</td>\n",
       "    </tr>\n",
       "  </tbody>\n",
       "</table>\n",
       "</div>"
      ],
      "text/plain": [
       "               name                                  addr postal        lat  \\\n",
       "183  heera of india                     595 piedmont ave.  30308  33.770298   \n",
       "182  heera of india  595 piedmont ave.  rio shopping mall  30324  33.798336   \n",
       "\n",
       "           lng  \n",
       "183 -84.381122  \n",
       "182 -84.371044  "
      ]
     },
     "metadata": {},
     "output_type": "display_data"
    },
    {
     "data": {
      "text/html": [
       "<div>\n",
       "<style scoped>\n",
       "    .dataframe tbody tr th:only-of-type {\n",
       "        vertical-align: middle;\n",
       "    }\n",
       "\n",
       "    .dataframe tbody tr th {\n",
       "        vertical-align: top;\n",
       "    }\n",
       "\n",
       "    .dataframe thead th {\n",
       "        text-align: right;\n",
       "    }\n",
       "</style>\n",
       "<table border=\"1\" class=\"dataframe\">\n",
       "  <thead>\n",
       "    <tr style=\"text-align: right;\">\n",
       "      <th></th>\n",
       "      <th>name</th>\n",
       "      <th>addr</th>\n",
       "      <th>postal</th>\n",
       "      <th>lat</th>\n",
       "      <th>lng</th>\n",
       "    </tr>\n",
       "  </thead>\n",
       "  <tbody>\n",
       "    <tr>\n",
       "      <th>41</th>\n",
       "      <td>palm  the (los angeles)</td>\n",
       "      <td>9001 santa monica blvd.</td>\n",
       "      <td>90069</td>\n",
       "      <td>34.083064</td>\n",
       "      <td>-118.387282</td>\n",
       "    </tr>\n",
       "    <tr>\n",
       "      <th>40</th>\n",
       "      <td>the palm</td>\n",
       "      <td>9001 santa monica blvd.</td>\n",
       "      <td>90069</td>\n",
       "      <td>34.083473</td>\n",
       "      <td>-118.387373</td>\n",
       "    </tr>\n",
       "  </tbody>\n",
       "</table>\n",
       "</div>"
      ],
      "text/plain": [
       "                       name                     addr postal        lat  \\\n",
       "41  palm  the (los angeles)  9001 santa monica blvd.  90069  34.083064   \n",
       "40                 the palm  9001 santa monica blvd.  90069  34.083473   \n",
       "\n",
       "           lng  \n",
       "41 -118.387282  \n",
       "40 -118.387373  "
      ]
     },
     "metadata": {},
     "output_type": "display_data"
    },
    {
     "data": {
      "text/html": [
       "<div>\n",
       "<style scoped>\n",
       "    .dataframe tbody tr th:only-of-type {\n",
       "        vertical-align: middle;\n",
       "    }\n",
       "\n",
       "    .dataframe tbody tr th {\n",
       "        vertical-align: top;\n",
       "    }\n",
       "\n",
       "    .dataframe thead th {\n",
       "        text-align: right;\n",
       "    }\n",
       "</style>\n",
       "<table border=\"1\" class=\"dataframe\">\n",
       "  <thead>\n",
       "    <tr style=\"text-align: right;\">\n",
       "      <th></th>\n",
       "      <th>name</th>\n",
       "      <th>addr</th>\n",
       "      <th>postal</th>\n",
       "      <th>lat</th>\n",
       "      <th>lng</th>\n",
       "    </tr>\n",
       "  </thead>\n",
       "  <tbody>\n",
       "    <tr>\n",
       "      <th>137</th>\n",
       "      <td>shun lee palace</td>\n",
       "      <td>155 e. 55th st.</td>\n",
       "      <td>10022</td>\n",
       "      <td>40.759435</td>\n",
       "      <td>-73.969072</td>\n",
       "    </tr>\n",
       "    <tr>\n",
       "      <th>136</th>\n",
       "      <td>shun lee west</td>\n",
       "      <td>43 w. 65th st.</td>\n",
       "      <td>10023</td>\n",
       "      <td>40.772900</td>\n",
       "      <td>-73.981348</td>\n",
       "    </tr>\n",
       "  </tbody>\n",
       "</table>\n",
       "</div>"
      ],
      "text/plain": [
       "                name             addr postal        lat        lng\n",
       "137  shun lee palace  155 e. 55th st.  10022  40.759435 -73.969072\n",
       "136    shun lee west   43 w. 65th st.  10023  40.772900 -73.981348"
      ]
     },
     "metadata": {},
     "output_type": "display_data"
    },
    {
     "data": {
      "text/html": [
       "<div>\n",
       "<style scoped>\n",
       "    .dataframe tbody tr th:only-of-type {\n",
       "        vertical-align: middle;\n",
       "    }\n",
       "\n",
       "    .dataframe tbody tr th {\n",
       "        vertical-align: top;\n",
       "    }\n",
       "\n",
       "    .dataframe thead th {\n",
       "        text-align: right;\n",
       "    }\n",
       "</style>\n",
       "<table border=\"1\" class=\"dataframe\">\n",
       "  <thead>\n",
       "    <tr style=\"text-align: right;\">\n",
       "      <th></th>\n",
       "      <th>name</th>\n",
       "      <th>addr</th>\n",
       "      <th>postal</th>\n",
       "      <th>lat</th>\n",
       "      <th>lng</th>\n",
       "    </tr>\n",
       "  </thead>\n",
       "  <tbody>\n",
       "    <tr>\n",
       "      <th>36</th>\n",
       "      <td>locanda veneta</td>\n",
       "      <td>8638 w 3rd</td>\n",
       "      <td>90048</td>\n",
       "      <td>34.073421</td>\n",
       "      <td>-118.381098</td>\n",
       "    </tr>\n",
       "    <tr>\n",
       "      <th>34</th>\n",
       "      <td>locanda veneta</td>\n",
       "      <td>3rd st.</td>\n",
       "      <td>None</td>\n",
       "      <td>34.009031</td>\n",
       "      <td>-118.488174</td>\n",
       "    </tr>\n",
       "  </tbody>\n",
       "</table>\n",
       "</div>"
      ],
      "text/plain": [
       "              name        addr postal        lat         lng\n",
       "36  locanda veneta  8638 w 3rd  90048  34.073421 -118.381098\n",
       "34  locanda veneta     3rd st.   None  34.009031 -118.488174"
      ]
     },
     "metadata": {},
     "output_type": "display_data"
    },
    {
     "data": {
      "text/html": [
       "<div>\n",
       "<style scoped>\n",
       "    .dataframe tbody tr th:only-of-type {\n",
       "        vertical-align: middle;\n",
       "    }\n",
       "\n",
       "    .dataframe tbody tr th {\n",
       "        vertical-align: top;\n",
       "    }\n",
       "\n",
       "    .dataframe thead th {\n",
       "        text-align: right;\n",
       "    }\n",
       "</style>\n",
       "<table border=\"1\" class=\"dataframe\">\n",
       "  <thead>\n",
       "    <tr style=\"text-align: right;\">\n",
       "      <th></th>\n",
       "      <th>name</th>\n",
       "      <th>addr</th>\n",
       "      <th>postal</th>\n",
       "      <th>lat</th>\n",
       "      <th>lng</th>\n",
       "    </tr>\n",
       "  </thead>\n",
       "  <tbody>\n",
       "    <tr>\n",
       "      <th>145</th>\n",
       "      <td>uncle nick's</td>\n",
       "      <td>747 ninth ave.</td>\n",
       "      <td>10019</td>\n",
       "      <td>40.763884</td>\n",
       "      <td>-73.989002</td>\n",
       "    </tr>\n",
       "    <tr>\n",
       "      <th>144</th>\n",
       "      <td>uncle nick's</td>\n",
       "      <td>747 9th ave.  between 50th and 51st sts.</td>\n",
       "      <td>10019</td>\n",
       "      <td>40.763835</td>\n",
       "      <td>-73.988912</td>\n",
       "    </tr>\n",
       "  </tbody>\n",
       "</table>\n",
       "</div>"
      ],
      "text/plain": [
       "             name                                      addr postal        lat  \\\n",
       "145  uncle nick's                            747 ninth ave.  10019  40.763884   \n",
       "144  uncle nick's  747 9th ave.  between 50th and 51st sts.  10019  40.763835   \n",
       "\n",
       "           lng  \n",
       "145 -73.989002  \n",
       "144 -73.988912  "
      ]
     },
     "metadata": {},
     "output_type": "display_data"
    },
    {
     "data": {
      "text/html": [
       "<div>\n",
       "<style scoped>\n",
       "    .dataframe tbody tr th:only-of-type {\n",
       "        vertical-align: middle;\n",
       "    }\n",
       "\n",
       "    .dataframe tbody tr th {\n",
       "        vertical-align: top;\n",
       "    }\n",
       "\n",
       "    .dataframe thead th {\n",
       "        text-align: right;\n",
       "    }\n",
       "</style>\n",
       "<table border=\"1\" class=\"dataframe\">\n",
       "  <thead>\n",
       "    <tr style=\"text-align: right;\">\n",
       "      <th></th>\n",
       "      <th>name</th>\n",
       "      <th>addr</th>\n",
       "      <th>postal</th>\n",
       "      <th>lat</th>\n",
       "      <th>lng</th>\n",
       "    </tr>\n",
       "  </thead>\n",
       "  <tbody>\n",
       "    <tr>\n",
       "      <th>111</th>\n",
       "      <td>mesa grill</td>\n",
       "      <td>102 fifth ave.</td>\n",
       "      <td>10011</td>\n",
       "      <td>40.737045</td>\n",
       "      <td>-73.993119</td>\n",
       "    </tr>\n",
       "    <tr>\n",
       "      <th>110</th>\n",
       "      <td>mesa grill</td>\n",
       "      <td>102 5th ave.  between 15th and 16th sts.</td>\n",
       "      <td>10001</td>\n",
       "      <td>40.748441</td>\n",
       "      <td>-73.985664</td>\n",
       "    </tr>\n",
       "  </tbody>\n",
       "</table>\n",
       "</div>"
      ],
      "text/plain": [
       "           name                                      addr postal        lat  \\\n",
       "111  mesa grill                            102 fifth ave.  10011  40.737045   \n",
       "110  mesa grill  102 5th ave.  between 15th and 16th sts.  10001  40.748441   \n",
       "\n",
       "           lng  \n",
       "111 -73.993119  \n",
       "110 -73.985664  "
      ]
     },
     "metadata": {},
     "output_type": "display_data"
    }
   ],
   "source": [
    "print(f\"False negatives (sample 10 of {len(false_negatives)}):\")\n",
    "for false_negative_pair in list(false_negatives)[:10]:\n",
    "    display(df.loc[list(false_negative_pair)][['name', 'addr', 'postal', 'lat', 'lng']])"
   ]
  },
  {
   "cell_type": "markdown",
   "id": "b744b2ea",
   "metadata": {
    "slideshow": {
     "slide_type": "slide"
    }
   },
   "source": [
    "## Supervised Classification\n",
    "\n",
    "\n",
    "Instead of trying to guess weights and thresholds, we can train a classifier to learn how to classify matches and nonmatches based on some training data we provide. Remember that this has to be processed as well! \n",
    "\n",
    "For a first classifier pass, I would use a SVM. SVMs are:\n",
    "* Are (more) resilient to noise \n",
    "* Can handle correlated features (like `postal` and `latlng`)\n",
    "* Are robust to imbalanced training sets (a huge probelm w/ record linkage/entity resoution problems!)"
   ]
  },
  {
   "cell_type": "code",
   "execution_count": 54,
   "id": "17b853a8",
   "metadata": {
    "slideshow": {
     "slide_type": "slide"
    }
   },
   "outputs": [
    {
     "data": {
      "text/html": [
       "<div>\n",
       "<style scoped>\n",
       "    .dataframe tbody tr th:only-of-type {\n",
       "        vertical-align: middle;\n",
       "    }\n",
       "\n",
       "    .dataframe tbody tr th {\n",
       "        vertical-align: top;\n",
       "    }\n",
       "\n",
       "    .dataframe thead th {\n",
       "        text-align: right;\n",
       "    }\n",
       "</style>\n",
       "<table border=\"1\" class=\"dataframe\">\n",
       "  <thead>\n",
       "    <tr style=\"text-align: right;\">\n",
       "      <th></th>\n",
       "      <th>name</th>\n",
       "      <th>addr</th>\n",
       "      <th>city</th>\n",
       "      <th>type</th>\n",
       "      <th>cluster</th>\n",
       "    </tr>\n",
       "  </thead>\n",
       "  <tbody>\n",
       "    <tr>\n",
       "      <th>0</th>\n",
       "      <td>locanda veneta</td>\n",
       "      <td>3rd st.</td>\n",
       "      <td>los angeles</td>\n",
       "      <td>italian</td>\n",
       "      <td>13</td>\n",
       "    </tr>\n",
       "    <tr>\n",
       "      <th>1</th>\n",
       "      <td>locanda veneta</td>\n",
       "      <td>8638 w. third st.</td>\n",
       "      <td>los angeles</td>\n",
       "      <td>italian</td>\n",
       "      <td>13</td>\n",
       "    </tr>\n",
       "    <tr>\n",
       "      <th>2</th>\n",
       "      <td>locanda veneta</td>\n",
       "      <td>8638 w 3rd</td>\n",
       "      <td>st los angeles</td>\n",
       "      <td>italian</td>\n",
       "      <td>13</td>\n",
       "    </tr>\n",
       "    <tr>\n",
       "      <th>3</th>\n",
       "      <td>cafe lalo</td>\n",
       "      <td>201 w. 83rd st.</td>\n",
       "      <td>new york</td>\n",
       "      <td>coffee bar</td>\n",
       "      <td>26</td>\n",
       "    </tr>\n",
       "    <tr>\n",
       "      <th>4</th>\n",
       "      <td>cafe lalo</td>\n",
       "      <td>201 w. 83rd st.</td>\n",
       "      <td>new york city</td>\n",
       "      <td>coffeehouses</td>\n",
       "      <td>26</td>\n",
       "    </tr>\n",
       "  </tbody>\n",
       "</table>\n",
       "</div>"
      ],
      "text/plain": [
       "             name               addr            city          type  cluster\n",
       "0  locanda veneta            3rd st.     los angeles       italian       13\n",
       "1  locanda veneta  8638 w. third st.     los angeles       italian       13\n",
       "2  locanda veneta         8638 w 3rd  st los angeles       italian       13\n",
       "3       cafe lalo    201 w. 83rd st.        new york    coffee bar       26\n",
       "4       cafe lalo    201 w. 83rd st.   new york city  coffeehouses       26"
      ]
     },
     "execution_count": 54,
     "metadata": {},
     "output_type": "execute_result"
    }
   ],
   "source": [
    "\n",
    "df_training = pd.read_csv('restaurant-training.csv', skip_blank_lines=True)\n",
    "df_training = df_training.drop(columns=['phone'])\n",
    "df_training.head()\n"
   ]
  },
  {
   "cell_type": "code",
   "execution_count": 53,
   "id": "579b122a",
   "metadata": {
    "slideshow": {
     "slide_type": "skip"
    }
   },
   "outputs": [],
   "source": [
    "import numpy as np\n",
    "import re\n",
    "import pprint\n",
    "\n",
    "irrelevant_regex = re.compile(r'[^a-z0-9\\s]')\n",
    "multispace_regex = re.compile(r'\\s\\s+')\n",
    "\n",
    "def assign_cleaned_name(df):\n",
    "    restaurant_stopwords = {\n",
    "        's', 'the', 'la', 'le', 'of', 'and', 'on', 'l'}\n",
    "    restaurant_stopwords_regex = r'\\b(?:{})\\b'.format(\n",
    "        '|'.join(restaurant_stopwords))\n",
    "    return df.assign(\n",
    "        name=df['name']\n",
    "             .str.replace(restaurant_stopwords_regex, '')\n",
    "             .str.replace(multispace_regex, ' ')\n",
    "             .str.strip())\n",
    "df_training = assign_no_symbols_name(df_training)\n",
    "df_training = assign_cleaned_name(df_training)\n",
    "df_training = assign_postal_lat_lng(df_training)"
   ]
  },
  {
   "cell_type": "code",
   "execution_count": 49,
   "id": "8a30add7",
   "metadata": {
    "slideshow": {
     "slide_type": "slide"
    }
   },
   "outputs": [
    {
     "name": "stdout",
     "output_type": "stream",
     "text": [
      "WARNING:recordlinkage:indexing - performance warning - A full index can result in large number of record pairs.\n",
      "true_positives total: 127\n",
      "false_positives total: 2\n",
      "false_negatives total: 23\n",
      "\n",
      "svm_true_positives total: 132\n",
      "svm_false_positives total: 2\n",
      "svm_false_negatives total: 18\n"
     ]
    }
   ],
   "source": [
    "all_training_pairs = Full().index(df_training)\n",
    "matches_training_pairs = Block('cluster').index(df_training)\n",
    "\n",
    "training_vectors = comp.compute(all_training_pairs, df_training)\n",
    "\n",
    "svm = rl.SVMClassifier()\n",
    "svm.fit(training_vectors, matches_training_pairs);\n",
    "\n",
    "svm_pairs = svm.predict(comparison_vectors)\n",
    "svm_found_pairs_set = set(svm_pairs)\n",
    "\n",
    "svm_true_positives = golden_pairs_set & svm_found_pairs_set\n",
    "svm_false_positives = svm_found_pairs_set - golden_pairs_set\n",
    "svm_false_negatives = golden_pairs_set - svm_found_pairs_set\n",
    "\n",
    "print('true_positives total:', len(true_positives))\n",
    "print('false_positives total:', len(false_positives))\n",
    "print('false_negatives total:', len(false_negatives))\n",
    "\n",
    "print('svm_true_positives total:', len(svm_true_positives))\n",
    "print('svm_false_positives total:', len(svm_false_positives))\n",
    "print('svm_false_negatives total:', len(svm_false_negatives))"
   ]
  },
  {
   "cell_type": "markdown",
   "id": "5c5a67c5",
   "metadata": {
    "slideshow": {
     "slide_type": "slide"
    }
   },
   "source": [
    "We got better results! The only false positive we got on the SVM classifier and not on the threshold method is a really difficult case where most columns are very similar:\n"
   ]
  },
  {
   "cell_type": "code",
   "execution_count": 52,
   "id": "ffaedce3",
   "metadata": {
    "slideshow": {
     "slide_type": "fragment"
    }
   },
   "outputs": [
    {
     "name": "stdout",
     "output_type": "stream",
     "text": [
      "(SVM false positives) - (Threshold false positives):\n"
     ]
    }
   ],
   "source": [
    "print(\"(SVM false positives) - (Threshold false positives):\")\n",
    "for svm_false_positive in (svm_false_positives - false_positives):\n",
    "    display(df.loc[list(svm_false_positive)][['name', 'addr', 'city', 'type', 'lat', 'lng']])"
   ]
  },
  {
   "cell_type": "markdown",
   "id": "889ddcba",
   "metadata": {
    "slideshow": {
     "slide_type": "slide"
    }
   },
   "source": [
    "There are other classifiers from recordlinkage library we could try, but the truth is:\n",
    "\n",
    "* It's very **difficult to build a good training set** that takes in account all important cases of matches/nonmatches\n",
    "* It's possible to tune classifier parameters to get better results, but it's **difficult to decide the right parameters** that will generalize well for future predictions\n",
    "* And we're not even **if the blocking rules we used are really sane**: we can be dropping true positives that are not being blocked together, or even introducing false negatives that are being blocked together but our classifier isn't being able classify them as nonmatching"
   ]
  },
  {
   "cell_type": "markdown",
   "id": "3656dadf",
   "metadata": {
    "slideshow": {
     "slide_type": "slide"
    }
   },
   "source": [
    "## If I had more time I'd talk about: Clustering\n",
    "\n",
    "We can cluster potentiall co-referent records. This helps us deal with the problem of **transitive closure** and deals with some of the assumptions that are wrong from Felligi-Sunter. Basically, when \n",
    "\n",
    "* record `A` matches record `B`\n",
    "* and record `B` matches record `C`\n",
    "* we enforce that record `A` matches record `C`\n",
    "\n",
    "\n"
   ]
  },
  {
   "cell_type": "markdown",
   "id": "3354bdf1",
   "metadata": {
    "slideshow": {
     "slide_type": "slide"
    }
   },
   "source": [
    "## Step 5: Evaluation\n",
    "\n",
    "* Accuracy is not appropriate, look at precision/recall/F-measure\n",
    "* BUT, if you use clustering-- don't just look at pairwise precision/recall, look at the whole host of clustering evaluation tools available (V-measure, homogeneity, completeness)\n",
    "\n",
    "\n",
    "\n",
    "![er_total](old_er.png)"
   ]
  },
  {
   "cell_type": "markdown",
   "id": "c1b67dd3",
   "metadata": {
    "slideshow": {
     "slide_type": "slide"
    }
   },
   "source": [
    "## Worth Looking at: \n",
    "\n",
    "* **Active Learning methods**: identify training examples that \"lead to maximal accuracy improvements\" to train both: optimal classifier weights  AND optimal blocking rules. Check out the `Dedupe` library!! \n",
    "* Privacy protected record linkage!\n",
    "* Don't wanna write code? Lots of product versions are available, include for the `Dedupe` library\n",
    "\n",
    "![dedupe](dedupe.jpg)"
   ]
  },
  {
   "cell_type": "markdown",
   "id": "46a9c708",
   "metadata": {
    "slideshow": {
     "slide_type": "slide"
    }
   },
   "source": [
    "## Last but not least\n",
    "\n",
    "* How you deduplicate is important for any downstream task you do! Linear regression (Lahiri 2004), logistic regression (diConsiglio 2018)\n",
    "* **YOU SHOULD BE REPORTING YOUR DEDUPLICATION CRITERIA**\n",
    "* my research! what to do when you don't have complete ground truth data!\n",
    "* my research! Bringing in the network science\n",
    "\n",
    "![network](preandpostFS.png)"
   ]
  }
 ],
 "metadata": {
  "celltoolbar": "Slideshow",
  "kernelspec": {
   "display_name": "Python 3 (ipykernel)",
   "language": "python",
   "name": "python3"
  },
  "language_info": {
   "codemirror_mode": {
    "name": "ipython",
    "version": 3
   },
   "file_extension": ".py",
   "mimetype": "text/x-python",
   "name": "python",
   "nbconvert_exporter": "python",
   "pygments_lexer": "ipython3",
   "version": "3.7.3"
  }
 },
 "nbformat": 4,
 "nbformat_minor": 5
}
